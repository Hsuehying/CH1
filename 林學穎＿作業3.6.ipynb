{
  "nbformat": 4,
  "nbformat_minor": 0,
  "metadata": {
    "colab": {
      "provenance": [],
      "authorship_tag": "ABX9TyMNkJZkBf+B7j0LhDxAGXg/",
      "include_colab_link": true
    },
    "kernelspec": {
      "name": "python3",
      "display_name": "Python 3"
    },
    "language_info": {
      "name": "python"
    }
  },
  "cells": [
    {
      "cell_type": "markdown",
      "metadata": {
        "id": "view-in-github",
        "colab_type": "text"
      },
      "source": [
        "<a href=\"https://colab.research.google.com/github/Hsuehying/complete-assignment/blob/main/%E6%9E%97%E5%AD%B8%E7%A9%8E%EF%BC%BF%E4%BD%9C%E6%A5%AD3.6.ipynb\" target=\"_parent\"><img src=\"https://colab.research.google.com/assets/colab-badge.svg\" alt=\"Open In Colab\"/></a>"
      ]
    },
    {
      "cell_type": "markdown",
      "source": [
        "3.6 印星星(三):"
      ],
      "metadata": {
        "id": "24DiS9T4XIG7"
      }
    },
    {
      "cell_type": "code",
      "source": [
        "x=1\n",
        "while x<=9:\n",
        "    if x<=5:\n",
        "       print(' '*(5-x)+'*'*x)\n",
        "    else:\n",
        "       print(' '*(x-5)+'*'*(10-x))\n",
        "    x=x+2"
      ],
      "metadata": {
        "id": "rQLY0NKfXKl_"
      },
      "execution_count": null,
      "outputs": []
    }
  ]
}