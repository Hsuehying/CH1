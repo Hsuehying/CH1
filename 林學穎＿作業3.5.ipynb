{
  "nbformat": 4,
  "nbformat_minor": 0,
  "metadata": {
    "colab": {
      "provenance": [],
      "authorship_tag": "ABX9TyMj22w7Xde2vVcl1y6NAS1x",
      "include_colab_link": true
    },
    "kernelspec": {
      "name": "python3",
      "display_name": "Python 3"
    },
    "language_info": {
      "name": "python"
    }
  },
  "cells": [
    {
      "cell_type": "markdown",
      "metadata": {
        "id": "view-in-github",
        "colab_type": "text"
      },
      "source": [
        "<a href=\"https://colab.research.google.com/github/Hsuehying/complete-assignment/blob/main/%E6%9E%97%E5%AD%B8%E7%A9%8E%EF%BC%BF%E4%BD%9C%E6%A5%AD3.5.ipynb\" target=\"_parent\"><img src=\"https://colab.research.google.com/assets/colab-badge.svg\" alt=\"Open In Colab\"/></a>"
      ]
    },
    {
      "cell_type": "markdown",
      "source": [
        "3.5 印星星(二):"
      ],
      "metadata": {
        "id": "CzLaIHoAWz9o"
      }
    },
    {
      "cell_type": "code",
      "source": [
        "x=4\n",
        "while x>0:\n",
        "  print(x*'＊')\n",
        "  x=x-1"
      ],
      "metadata": {
        "id": "k_nFJy7NW1Lm"
      },
      "execution_count": null,
      "outputs": []
    }
  ]
}