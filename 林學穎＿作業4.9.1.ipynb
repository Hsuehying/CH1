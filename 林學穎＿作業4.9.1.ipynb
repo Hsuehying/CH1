{
  "nbformat": 4,
  "nbformat_minor": 0,
  "metadata": {
    "colab": {
      "provenance": [],
      "authorship_tag": "ABX9TyM47S6H3bH0Af7zkFHOKea7",
      "include_colab_link": true
    },
    "kernelspec": {
      "name": "python3",
      "display_name": "Python 3"
    },
    "language_info": {
      "name": "python"
    }
  },
  "cells": [
    {
      "cell_type": "markdown",
      "metadata": {
        "id": "view-in-github",
        "colab_type": "text"
      },
      "source": [
        "<a href=\"https://colab.research.google.com/github/Hsuehying/complete-assignment/blob/main/%E6%9E%97%E5%AD%B8%E7%A9%8E%EF%BC%BF%E4%BD%9C%E6%A5%AD4.9.1.ipynb\" target=\"_parent\"><img src=\"https://colab.research.google.com/assets/colab-badge.svg\" alt=\"Open In Colab\"/></a>"
      ]
    },
    {
      "cell_type": "markdown",
      "source": [
        "4.9.1 請寫一個函式 compare_value(x, y)，比較參數 x 和 y 的大小，若 x 大於 y 則回傳 1；若 x 等於 y 則回傳 0；若 x 小於 y 則回傳 -1。"
      ],
      "metadata": {
        "id": "LcWpGJk1YVMJ"
      }
    },
    {
      "cell_type": "code",
      "source": [
        "def compare_value(x,y):\n",
        "    if x>y:\n",
        "        return 1\n",
        "    elif x==y:\n",
        "        return 0\n",
        "    if x<y:\n",
        "        return -1\n",
        "print(compare_value(3,5))\n",
        "print(compare_value(878,878))\n",
        "print(compare_value(9895,8974))"
      ],
      "metadata": {
        "id": "-iEYty52YbUc"
      },
      "execution_count": null,
      "outputs": []
    }
  ]
}