{
  "nbformat": 4,
  "nbformat_minor": 0,
  "metadata": {
    "colab": {
      "provenance": [],
      "authorship_tag": "ABX9TyOur973vH04KJ8zcsnRNtri",
      "include_colab_link": true
    },
    "kernelspec": {
      "name": "python3",
      "display_name": "Python 3"
    },
    "language_info": {
      "name": "python"
    }
  },
  "cells": [
    {
      "cell_type": "markdown",
      "metadata": {
        "id": "view-in-github",
        "colab_type": "text"
      },
      "source": [
        "<a href=\"https://colab.research.google.com/github/Hsuehying/complete-assignment/blob/main/%E6%9E%97%E5%AD%B8%E7%A9%8E%EF%BC%BF%E4%BD%9C%E6%A5%AD4.11.2.ipynb\" target=\"_parent\"><img src=\"https://colab.research.google.com/assets/colab-badge.svg\" alt=\"Open In Colab\"/></a>"
      ]
    },
    {
      "cell_type": "markdown",
      "source": [
        "4.11.2 請寫一個 `is_odd(x)` 函式，檢查輸入的參數 `x` 是不是奇數。如果 `x` 是奇數則回傳 `Ture`；若 `x` 不是奇數則回傳 `False`。"
      ],
      "metadata": {
        "id": "eqLkh0nfZfmQ"
      }
    },
    {
      "cell_type": "code",
      "source": [
        "def is_odd(x):\n",
        "   if x%2==0:\n",
        "      return False\n",
        "   else:\n",
        "      return True\n",
        "input_x=int(input('請輸入x:'))\n",
        "print(is_odd(input_x))"
      ],
      "metadata": {
        "id": "FFPAUicPZh7x"
      },
      "execution_count": null,
      "outputs": []
    }
  ]
}