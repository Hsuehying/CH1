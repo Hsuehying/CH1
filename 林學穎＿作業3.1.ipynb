{
  "nbformat": 4,
  "nbformat_minor": 0,
  "metadata": {
    "colab": {
      "provenance": [],
      "authorship_tag": "ABX9TyMtzIsKcTIwy6DnAVUuh4Jo",
      "include_colab_link": true
    },
    "kernelspec": {
      "name": "python3",
      "display_name": "Python 3"
    },
    "language_info": {
      "name": "python"
    }
  },
  "cells": [
    {
      "cell_type": "markdown",
      "metadata": {
        "id": "view-in-github",
        "colab_type": "text"
      },
      "source": [
        "<a href=\"https://colab.research.google.com/github/Hsuehying/complete-assignment/blob/main/%E6%9E%97%E5%AD%B8%E7%A9%8E%EF%BC%BF%E4%BD%9C%E6%A5%AD3.1.ipynb\" target=\"_parent\"><img src=\"https://colab.research.google.com/assets/colab-badge.svg\" alt=\"Open In Colab\"/></a>"
      ]
    },
    {
      "cell_type": "markdown",
      "source": [
        "3.1 寫程式計算 1 ~ 100 中的所有奇數和\n",
        "\n"
      ],
      "metadata": {
        "id": "3-S2SlvNT7Fa"
      }
    },
    {
      "cell_type": "code",
      "source": [
        "sum = 0\n",
        "for x in range(1,100,2):\n",
        "  sum = sum + x\n",
        "print(sum)\n"
      ],
      "metadata": {
        "colab": {
          "base_uri": "https://localhost:8080/"
        },
        "id": "KdVIvq_KUsY9",
        "outputId": "c2856d2e-0e89-4da9-dba1-602fe975c59e"
      },
      "execution_count": 1,
      "outputs": [
        {
          "output_type": "stream",
          "name": "stdout",
          "text": [
            "2500\n"
          ]
        }
      ]
    }
  ]
}