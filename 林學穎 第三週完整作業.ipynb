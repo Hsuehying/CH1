{
  "cells": [
    {
      "cell_type": "markdown",
      "metadata": {
        "id": "4guqyXvmnXrl"
      },
      "source": [
        "# Python Class Week 3\n",
        "\n",
        "# 3. 迴圈結構(Iteration)\n",
        "\n",
        "* 所謂的迴圈結構，就是讓電腦一直的重複做同一件事。當然，在大多數的情況之下，重複執行的同一件事會因為相關的參數有一些變化，而結果會有一些改變。例如：\n",
        " 1. 由1加到100, 其實是執行 0＋1，結果+2,  結果+3, 結果+4, …  結果+100,\n",
        " 2. 重複印一樣的歌詞100遍\n",
        " 3. 重複印一樣的邀請函100張，但是「被邀請人的姓名」不一樣....\n",
        "* 這些動作，若要在程式中一行一行寫，就得寫100次一樣的東西，實在很笨。所以程式語言有種叫作「迴圈」的東西，讓我們可以只要寫一次就好。\n",
        "\n",
        "## 3.1  兩種迴圈 ： for loops 與 while loops\n",
        "\n",
        "* 迴圈有兩種：「知道要繞幾圈」、「不知要繞幾圈，但知道何時要結束（知道結束條件）」\n",
        "* 「知道要繞幾圈」：例如：由1加到100 = 繞100圈，重複印一樣的歌詞100遍＝繞100圈，這種情況要用 for loops.\n",
        "* 「不知要繞幾圈，但知道何時要結束（知道結束條件）」: 例如：輸入到合法的值為止。這種情況要用 while。\n",
        "* 我把課本的順序對調，先教for loops, 再教 while loops.\n",
        "\n",
        "## 3.2  for 迴圈(for Loops)\n",
        "\n",
        "* for 迴圈，的基本精神是可以指定迴圈執行的圈數。但在python中 for 迴圈 有一個更深的意含，就是用來把一個「有順序的物件(sequence object)的內容逐一拜訪過。」\n",
        "* 這個「更深的意含」目前有點難懂，但是實際上做一些例子後，就會明瞭了。\n",
        "* for 迴圈的表示方式如下：\n",
        "* 先看一個簡單範例："
      ]
    },
    {
      "cell_type": "raw",
      "metadata": {
        "id": "FFinGjS8nXro"
      },
      "source": [
        "for <target> in <object>: # Assign object items to target.\n",
        "    <statements>"
      ]
    },
    {
      "cell_type": "code",
      "execution_count": null,
      "metadata": {
        "id": "T4C3WPJxnXro",
        "outputId": "bb277d12-8a3a-4f5e-85ca-8e841a04eba7"
      },
      "outputs": [
        {
          "name": "stdout",
          "output_type": "stream",
          "text": [
            "1\n",
            "2\n",
            "3\n"
          ]
        }
      ],
      "source": [
        "for x in [1, 2, 3]:\n",
        "    print(x)"
      ]
    },
    {
      "cell_type": "markdown",
      "metadata": {
        "id": "r_q2zG4cnXrq"
      },
      "source": [
        "* 我們對照著看。<target\\>就是範例中的 `x`，<object\\>就是`[1,2,3]`\n",
        "* `[1,2,3]` 是一個 List, 也是一個「有順序的物件(sequence object)」，內容是1,2,3 三個數字。\n",
        "* 而<target\\>（就是範例中的 `x`），是我們給的一個變數，可以隨便命名。\n",
        "* 而每次迴圈執行一次，就會依序的把<object\\>（範例中是`[1,2,3]`）的一個值，複製到x之中。直到所有<object\\>的值都被複製出來後，迴圈就結束。\n",
        "* 因此，下面是一些執行的例子"
      ]
    },
    {
      "cell_type": "code",
      "execution_count": null,
      "metadata": {
        "id": "PZxb840bnXrq",
        "outputId": "473513b0-a167-486e-b00f-efe2dc866d8a"
      },
      "outputs": [
        {
          "name": "stdout",
          "output_type": "stream",
          "text": [
            "spam\n",
            "eggs\n",
            "ham\n"
          ]
        }
      ],
      "source": [
        "for x in [\"spam\", \"eggs\", \"ham\"]:\n",
        "    print(x)"
      ]
    },
    {
      "cell_type": "code",
      "execution_count": null,
      "metadata": {
        "id": "RxPDM9NPnXrr",
        "outputId": "7ab94371-2b9c-41c3-c51a-adcdf684a016"
      },
      "outputs": [
        {
          "name": "stdout",
          "output_type": "stream",
          "text": [
            "10\n"
          ]
        }
      ],
      "source": [
        "sum = 0\n",
        "for x in [1, 2, 3, 4]:\n",
        "    sum = sum + x\n",
        "\n",
        "print(sum)"
      ]
    },
    {
      "cell_type": "code",
      "execution_count": null,
      "metadata": {
        "id": "o4BhRERUnXrr",
        "outputId": "5b67cf8a-6ff0-4560-c183-ec361f2dc33e"
      },
      "outputs": [
        {
          "name": "stdout",
          "output_type": "stream",
          "text": [
            "10\n"
          ]
        }
      ],
      "source": [
        "sum = 0\n",
        "for x in [1, 2, 3, 4]:\n",
        "    sum =sum + x\n",
        "\n",
        "print(sum)"
      ]
    },
    {
      "cell_type": "code",
      "execution_count": null,
      "metadata": {
        "id": "hZRc_o_PnXrs",
        "outputId": "6813d633-9231-4979-9335-2fa3b6280fac"
      },
      "outputs": [
        {
          "name": "stdout",
          "output_type": "stream",
          "text": [
            "5050\n"
          ]
        }
      ],
      "source": [
        "sum = 0\n",
        "for x in range(1, 101):\n",
        "    sum = sum + x\n",
        "\n",
        "print(sum)"
      ]
    },
    {
      "cell_type": "code",
      "execution_count": null,
      "metadata": {
        "id": "9LMgNK5WnXrt",
        "outputId": "9a674862-1242-4151-a302-167ddd2e72ca"
      },
      "outputs": [
        {
          "name": "stdout",
          "output_type": "stream",
          "text": [
            "4950\n"
          ]
        }
      ],
      "source": [
        "sum = 0\n",
        "for x in range(1,100):\n",
        "    sum = sum + x\n",
        "\n",
        "print(sum)"
      ]
    },
    {
      "cell_type": "code",
      "execution_count": null,
      "metadata": {
        "id": "5yGU1z_ynXru",
        "outputId": "c9e3b46e-c681-4544-b4ae-d3f9cc1bba4c"
      },
      "outputs": [
        {
          "name": "stdout",
          "output_type": "stream",
          "text": [
            "24\n"
          ]
        }
      ],
      "source": [
        "prod = 1\n",
        "for item in [1, 2, 3, 4]:\n",
        "    prod *= item\n",
        "\n",
        "print(prod)"
      ]
    },
    {
      "cell_type": "code",
      "execution_count": null,
      "metadata": {
        "id": "6ZNbmmOHnXrv",
        "outputId": "c0652754-eed6-4768-ec6c-b4c6a41f57b2"
      },
      "outputs": [
        {
          "name": "stdout",
          "output_type": "stream",
          "text": [
            "24\n"
          ]
        }
      ],
      "source": [
        "prod = 1\n",
        "for item in [1, 2, 3, 4]:\n",
        "    prod *= item\n",
        "\n",
        "print(prod)"
      ]
    },
    {
      "cell_type": "code",
      "execution_count": null,
      "metadata": {
        "id": "-mpHXPjknXrv",
        "outputId": "50685930-fbd7-44ff-f333-4839ef80464e"
      },
      "outputs": [
        {
          "name": "stdout",
          "output_type": "stream",
          "text": [
            "王老先生有塊地，他在田邊養小雞\n",
            "王老先生有塊地，他在田邊養小鴨\n",
            "王老先生有塊地，他在田邊養小羊\n"
          ]
        }
      ],
      "source": [
        "for x in [\"小雞\", \"小鴨\", \"小羊\"]:\n",
        "    print(\"王老先生有塊地，他在田邊養%s\" % x )"
      ]
    },
    {
      "cell_type": "code",
      "execution_count": null,
      "metadata": {
        "id": "dNsjSTBbnXrv",
        "outputId": "1ac8e705-bf2f-43d3-844a-639f5020feab"
      },
      "outputs": [
        {
          "name": "stdout",
          "output_type": "stream",
          "text": [
            "嘉嬪，本宮要一一往上爬\n",
            "嘉妃，本宮要一一往上爬\n",
            "嘉貴妃，本宮要一一往上爬\n"
          ]
        }
      ],
      "source": [
        "for x in [\"嘉嬪\", \"嘉妃\", \"嘉貴妃\"]:\n",
        "    print(\"%s，本宮要一一往上爬\" % x )"
      ]
    },
    {
      "cell_type": "markdown",
      "metadata": {
        "id": "ig2kh6lKnXrw"
      },
      "source": [
        "* 有些時候，我們也不管<target\\>值（就是範例中的 `x` 值）的變化，只是讓迴圈轉適當的次數，但這種情況不多。例如："
      ]
    },
    {
      "cell_type": "code",
      "execution_count": null,
      "metadata": {
        "id": "ewNmFUmcnXrw",
        "outputId": "d1314e4e-cc0c-4efd-a944-822ff72b15e3"
      },
      "outputs": [
        {
          "name": "stdout",
          "output_type": "stream",
          "text": [
            "王老先生有塊地，咿啞咿啞唷\n",
            "王老先生有塊地，咿啞咿啞唷\n",
            "王老先生有塊地，咿啞咿啞唷\n"
          ]
        }
      ],
      "source": [
        "for x in [1, 2, 3]:\n",
        "    print(\"王老先生有塊地，咿啞咿啞唷\")"
      ]
    },
    {
      "cell_type": "code",
      "execution_count": null,
      "metadata": {
        "id": "8xdVfIjPnXrw",
        "outputId": "94dda73a-2306-4143-af9a-581df2bf6b2d"
      },
      "outputs": [
        {
          "name": "stdout",
          "output_type": "stream",
          "text": [
            "10\n"
          ]
        }
      ],
      "source": [
        "sum = 0\n",
        "for x in range(5):\n",
        "    sum = sum + x\n",
        "\n",
        "print(sum)"
      ]
    },
    {
      "cell_type": "markdown",
      "metadata": {
        "id": "LbrOmZX7nXrw"
      },
      "source": [
        "## Range 函式\n",
        "\n",
        "* `range(n)` 是用來產成一個整數的List, 以便被尋訪內容。\n",
        "* `range` 有很多使用的方式，第一種方式，和我們已經用過的一樣，只給一個整數`n`。則會產生一個整數的List，內容是0 ~ n-1, 共n個值。\n",
        "* 你也可以傳入兩個值，`range(n,m)` 此時產生的整數的List內容就是：由 n ~ m-1，一共（m-n）個數。\n",
        "* 你也可傳入第三個值，`range(n,m,s)`， 此時產生的整數的List內容就是：n, n+s, n+2*s, n+3*s.... <m 的最大的那一個。以下是一些範例。"
      ]
    },
    {
      "cell_type": "code",
      "execution_count": null,
      "metadata": {
        "id": "O7nYcYmanXrx",
        "outputId": "b52abfd8-ec5f-4eba-ed55-b172b6aabb05"
      },
      "outputs": [
        {
          "data": {
            "text/plain": [
              "[0, 1, 2, 3, 4, 5, 6, 7, 8, 9, 10, 11, 12, 13, 14]"
            ]
          },
          "execution_count": 24,
          "metadata": {},
          "output_type": "execute_result"
        }
      ],
      "source": [
        "list(range(15))"
      ]
    },
    {
      "cell_type": "code",
      "execution_count": null,
      "metadata": {
        "id": "vjAcWOD1nXrx",
        "outputId": "af28ef27-8970-4525-ba2c-6fbc7404fb7d"
      },
      "outputs": [
        {
          "data": {
            "text/plain": [
              "[2, 3, 4, 5, 6, 7, 8, 9, 10, 11, 12, 13, 14]"
            ]
          },
          "execution_count": 25,
          "metadata": {},
          "output_type": "execute_result"
        }
      ],
      "source": [
        "list(range(2, 15))"
      ]
    },
    {
      "cell_type": "code",
      "execution_count": null,
      "metadata": {
        "id": "Iv_-SPdBnXrx",
        "outputId": "a3e4ad5f-7941-4919-eb93-8bda776375ec"
      },
      "outputs": [
        {
          "data": {
            "text/plain": [
              "[0, 2, 4, 6, 8]"
            ]
          },
          "execution_count": 26,
          "metadata": {},
          "output_type": "execute_result"
        }
      ],
      "source": [
        "list(range(0, 10, 2))"
      ]
    },
    {
      "cell_type": "markdown",
      "metadata": {
        "id": "xddwdofbnXrx"
      },
      "source": [
        "* 其他兩個範例。"
      ]
    },
    {
      "cell_type": "code",
      "execution_count": null,
      "metadata": {
        "id": "ObyFWnRRnXrx",
        "outputId": "32aac02e-df9b-4c94-9836-3afcc4653694"
      },
      "outputs": [
        {
          "data": {
            "text/plain": [
              "[-5, -4, -3, -2, -1, 0, 1, 2, 3, 4]"
            ]
          },
          "execution_count": 27,
          "metadata": {},
          "output_type": "execute_result"
        }
      ],
      "source": [
        "list(range(-5, 5))"
      ]
    },
    {
      "cell_type": "code",
      "execution_count": null,
      "metadata": {
        "id": "QyBYzJi3nXrx",
        "outputId": "1d18a4b2-f917-4aa7-d541-51a1c2429d9c"
      },
      "outputs": [
        {
          "data": {
            "text/plain": [
              "[5, 4, 3, 2, 1, 0, -1, -2, -3, -4]"
            ]
          },
          "execution_count": 28,
          "metadata": {},
          "output_type": "execute_result"
        }
      ],
      "source": [
        "list(range(5, -5, -1))"
      ]
    },
    {
      "cell_type": "markdown",
      "metadata": {
        "id": "cRIvSQhenXry"
      },
      "source": [
        "* 很多時候，`for` 迴圈會跟 `range()` 混用。例如："
      ]
    },
    {
      "cell_type": "code",
      "execution_count": null,
      "metadata": {
        "id": "NFp2Zg8knXry",
        "outputId": "475f6b57-8a20-44ef-89e8-89a32f90d1d4"
      },
      "outputs": [
        {
          "name": "stdout",
          "output_type": "stream",
          "text": [
            "0 Pythons\n",
            "1 Pythons\n",
            "2 Pythons\n"
          ]
        }
      ],
      "source": [
        "for i in range(3):\n",
        "    print('%d Pythons' % i)"
      ]
    },
    {
      "cell_type": "markdown",
      "metadata": {
        "id": "ngYxUHt0nXry"
      },
      "source": [
        "## 3.4 while 迴圈(while loop)\n",
        "\n",
        "* `while` 迴圈，也是一個常使用的的迴圈結構，不同的是，for loop 用來處裡已知圈數的迴圈，而 while loop 則用來處裡「不知要跑多少圈的迴圈」。\n",
        "* 以下為 for 迴圈的標準範例。（已經確定要跑四圈）"
      ]
    },
    {
      "cell_type": "code",
      "execution_count": null,
      "metadata": {
        "id": "n6lsXUbmnXry",
        "outputId": "e8f11f76-3994-4035-913e-19bd7d59e21a"
      },
      "outputs": [
        {
          "name": "stdout",
          "output_type": "stream",
          "text": [
            "Hello!\n",
            "Hello!\n",
            "Hello!\n",
            "Hello!\n"
          ]
        }
      ],
      "source": [
        "for i in range(4):\n",
        "    print('Hello!')"
      ]
    },
    {
      "cell_type": "markdown",
      "metadata": {
        "id": "ZViCbFY0nXry"
      },
      "source": [
        "* while 迴圈，一般又稱作條件迴圈（conditional loop），當條件被滿足時，迴圈就會繼續，直到條件不滿足為止。"
      ]
    },
    {
      "cell_type": "markdown",
      "metadata": {
        "id": "EAFdcjpvnXry"
      },
      "source": [
        "* while 迴圈的最基本語法如下："
      ]
    },
    {
      "cell_type": "raw",
      "metadata": {
        "id": "KUvQ-UzKnXry"
      },
      "source": [
        "while <test>:\n",
        "   <statements>"
      ]
    },
    {
      "cell_type": "markdown",
      "metadata": {
        "id": "JjuZSRGPnXrz"
      },
      "source": [
        "* 例如：下面的函式會執行列印，直到n不在>0，而由於while loop不會自動變動判斷目標，所以迴圈最後一行將n 更新為n-1，讓迴圈的執行內容改變。"
      ]
    },
    {
      "cell_type": "code",
      "execution_count": null,
      "metadata": {
        "id": "nCSTZ3HKnXrz"
      },
      "outputs": [],
      "source": [
        "n = 3\n",
        "while n > 0:\n",
        "    print(n)\n",
        "    n = n - 1\n",
        "print(\"Blastoff!\")"
      ]
    },
    {
      "cell_type": "code",
      "execution_count": null,
      "metadata": {
        "id": "iiNq_4wLnXrz"
      },
      "outputs": [],
      "source": [
        "countdown(3)"
      ]
    },
    {
      "cell_type": "markdown",
      "metadata": {
        "id": "leHdo0PMnXrz"
      },
      "source": [
        "* (非常重要！！) while 執行的流程為：\n",
        " 1. 先進行條件的判斷，得到 True or False 的答案。\n",
        " 2. 如果判斷結果為False ，While 迴圈會結束。並且執行步驟直接跳到整個迴圈區塊結束的地方。\n",
        " 3. 如果判斷結果為True，迴圈內容會被執行，執行完後再回到步驟1看看還要不要繼續執行迴圈。"
      ]
    },
    {
      "cell_type": "markdown",
      "metadata": {
        "id": "n955SU2cnXrz"
      },
      "source": [
        "* 記住，由於while loop不會自動變動判斷目標條件值。因此迴圈內容必須適當地改變判斷目標，並且使迴圈有結束的一天，不然，就會變成無窮迴圈。"
      ]
    },
    {
      "cell_type": "markdown",
      "metadata": {
        "id": "h7I_tgnOnXrz"
      },
      "source": [
        "* 不過，在某些情況下，是有點不容易判斷迴圈是否一定會結束，例如："
      ]
    },
    {
      "cell_type": "code",
      "execution_count": null,
      "metadata": {
        "id": "6FsIvi6TnXrz"
      },
      "outputs": [],
      "source": [
        "n = 15\n",
        "while n != 1:\n",
        "    print(\"%d\" % n, end=\"\")\n",
        "    if n % 2 == 0:  # n is even\n",
        "        n = n / 2\n",
        "    else:               # n is odd\n",
        "        n = n * 3 + 1"
      ]
    },
    {
      "cell_type": "markdown",
      "metadata": {
        "id": "-GhrmNJgnXr0"
      },
      "source": [
        "* 範例中的n值有時增加，有時減少，實在不一定馬上看出是否所有數字到最後都能==1"
      ]
    },
    {
      "cell_type": "markdown",
      "metadata": {
        "id": "q5AlO1PjnXr0"
      },
      "source": [
        "## 3.5 break\n",
        "\n",
        "* break 是 while 跟 for 的好朋友，遇到 break, 就會跳出當下的迴圈(只會跳出一層而已)。\n",
        "* 例如，我們可以用 while True 建立無限迴圈，而用 break 來終止執行。"
      ]
    },
    {
      "cell_type": "code",
      "execution_count": null,
      "metadata": {
        "id": "AsScaAuTnXr0"
      },
      "outputs": [],
      "source": [
        "while True:\n",
        "    line = input('> ')\n",
        "    if line == 'done':\n",
        "        break\n",
        "    print(line)\n",
        "print('Done!')"
      ]
    },
    {
      "cell_type": "markdown",
      "metadata": {
        "id": "pCRh-cQFnXr0"
      },
      "source": [
        "## 3.6  幾個重要的迴圈搭配指令  break, continue\n",
        "\n",
        "* **break**:  直接跳出一層迴圈。迴圈會終止。\n",
        "* **continue**: 遇到continue 時，本圈結束，直接開始下一圈，但迴圈不會終止"
      ]
    },
    {
      "cell_type": "markdown",
      "metadata": {
        "id": "_4rqyYlznXr0"
      },
      "source": [
        "* 例如："
      ]
    },
    {
      "cell_type": "code",
      "execution_count": null,
      "metadata": {
        "id": "WnuAZQhhnXr0"
      },
      "outputs": [],
      "source": [
        "prod = 1\n",
        "for item in [1, 2, 3, 4]:\n",
        "    if item % 2 != 0:\n",
        "        continue\n",
        "    prod *= item\n",
        "\n",
        "print(prod)"
      ]
    },
    {
      "cell_type": "code",
      "execution_count": null,
      "metadata": {
        "id": "FoeMWJ3hnXr1"
      },
      "outputs": [],
      "source": [
        "x = 10\n",
        "while True:\n",
        "    x = x - 1                # 每次都讓x-1\n",
        "    if x % 2 != 0:\n",
        "        continue           # 如果是奇數，啥事都不做，直接換下一筆進行處裡。\n",
        "    print(x)\n",
        "    if x == 0:\n",
        "        break                # 如果是x==0，離開迴圈。"
      ]
    },
    {
      "cell_type": "markdown",
      "metadata": {
        "id": "ps9Q_R6-nXr1"
      },
      "source": [
        "## 課堂練習\n",
        "\n",
        "1. 寫程式計算 1 ~ 100 中的所有奇數和"
      ]
    },
    {
      "cell_type": "code",
      "source": [],
      "metadata": {
        "id": "NvGmLs5woZB5"
      },
      "execution_count": null,
      "outputs": []
    },
    {
      "cell_type": "code",
      "execution_count": 5,
      "metadata": {
        "colab": {
          "base_uri": "https://localhost:8080/"
        },
        "id": "t03HI4fCnXr1",
        "outputId": "d73d6c20-65ea-43a2-e3fd-51aab933c7cd"
      },
      "outputs": [
        {
          "output_type": "stream",
          "name": "stdout",
          "text": [
            "2500\n"
          ]
        }
      ],
      "source": [
        "sum = 0\n",
        "for x in range(1,100,2):\n",
        "  sum = sum + x\n",
        "print(sum)\n"
      ]
    },
    {
      "cell_type": "markdown",
      "metadata": {
        "id": "U8v9-FthnXr1"
      },
      "source": [
        "2. 九九乘法表\n",
        "\n",
        "不換行列印的方法：  `print(x, end='')`"
      ]
    },
    {
      "cell_type": "code",
      "execution_count": 11,
      "metadata": {
        "colab": {
          "base_uri": "https://localhost:8080/"
        },
        "id": "HUe_K7xvnXr1",
        "outputId": "9cf28625-0e21-4230-9d91-beb4accac4b2"
      },
      "outputs": [
        {
          "output_type": "stream",
          "name": "stdout",
          "text": [
            "1 * 1 = 1    2 * 1 = 2    3 * 1 = 3    4 * 1 = 4    5 * 1 = 5    6 * 1 = 6    7 * 1 = 7    8 * 1 = 8    9 * 1 = 9    \n",
            "1 * 2 = 2    2 * 2 = 4    3 * 2 = 6    4 * 2 = 8    5 * 2 = 10    6 * 2 = 12    7 * 2 = 14    8 * 2 = 16    9 * 2 = 18    \n",
            "1 * 3 = 3    2 * 3 = 6    3 * 3 = 9    4 * 3 = 12    5 * 3 = 15    6 * 3 = 18    7 * 3 = 21    8 * 3 = 24    9 * 3 = 27    \n",
            "1 * 4 = 4    2 * 4 = 8    3 * 4 = 12    4 * 4 = 16    5 * 4 = 20    6 * 4 = 24    7 * 4 = 28    8 * 4 = 32    9 * 4 = 36    \n",
            "1 * 5 = 5    2 * 5 = 10    3 * 5 = 15    4 * 5 = 20    5 * 5 = 25    6 * 5 = 30    7 * 5 = 35    8 * 5 = 40    9 * 5 = 45    \n",
            "1 * 6 = 6    2 * 6 = 12    3 * 6 = 18    4 * 6 = 24    5 * 6 = 30    6 * 6 = 36    7 * 6 = 42    8 * 6 = 48    9 * 6 = 54    \n",
            "1 * 7 = 7    2 * 7 = 14    3 * 7 = 21    4 * 7 = 28    5 * 7 = 35    6 * 7 = 42    7 * 7 = 49    8 * 7 = 56    9 * 7 = 63    \n",
            "1 * 8 = 8    2 * 8 = 16    3 * 8 = 24    4 * 8 = 32    5 * 8 = 40    6 * 8 = 48    7 * 8 = 56    8 * 8 = 64    9 * 8 = 72    \n",
            "1 * 9 = 9    2 * 9 = 18    3 * 9 = 27    4 * 9 = 36    5 * 9 = 45    6 * 9 = 54    7 * 9 = 63    8 * 9 = 72    9 * 9 = 81    \n"
          ]
        }
      ],
      "source": [
        "x=0\n",
        "y=0\n",
        "for x in range(1,10):\n",
        "  for y in range(1,10):\n",
        "    print('%d * %d = %d    '%(y,x,x*y),end='' )\n",
        "  print()"
      ]
    },
    {
      "cell_type": "markdown",
      "metadata": {
        "id": "XK0eJ0bznXr1"
      },
      "source": [
        "3. 某班學生人數不詳，欲輸入每一個學生成績，當輸入 -1 時表示結束輸入，然後顯示出全班人數、及格人數、不及格人數、以及全班平均值。"
      ]
    },
    {
      "cell_type": "markdown",
      "source": [],
      "metadata": {
        "id": "cDZ1Wl_gxrPl"
      }
    },
    {
      "cell_type": "code",
      "execution_count": null,
      "metadata": {
        "id": "ApxUSZgSnXr1"
      },
      "outputs": [],
      "source": [
        "count=0\n",
        "total=0\n",
        "passc=0\n",
        "failc=0\n",
        "while True:\n",
        "  score= int(input('請輸入成績：（輸入-1結束）：'))\n",
        "  if score == -1:\n",
        "    break\n",
        "  total+=score\n",
        "  count+=1\n",
        "  if score>=60:\n",
        "     passc+=1\n",
        "  else:\n",
        "    failc+=1\n",
        "  avr=totla / count\n",
        "print(f'全班人數:{count}')\n",
        "print(f'及格人數:{passc}')\n",
        "print(f'不及格人數:{failc}')\n",
        "print(f'全班平均值:{avr}')"
      ]
    },
    {
      "cell_type": "markdown",
      "source": [],
      "metadata": {
        "id": "iPTZIHmGxq8b"
      }
    },
    {
      "cell_type": "markdown",
      "metadata": {
        "id": "h-jQygnNnXr1"
      },
      "source": [
        "4. 印星星(一):"
      ]
    },
    {
      "cell_type": "raw",
      "metadata": {
        "id": "GUSO26ndnXr1"
      },
      "source": [
        "*\n",
        "**\n",
        "***\n",
        "****"
      ]
    },
    {
      "cell_type": "code",
      "execution_count": 13,
      "metadata": {
        "colab": {
          "base_uri": "https://localhost:8080/"
        },
        "id": "XUiT0Y4TnXr2",
        "outputId": "24242f20-d25c-4e40-dd72-11a588e28481"
      },
      "outputs": [
        {
          "output_type": "stream",
          "name": "stdout",
          "text": [
            "＊\n",
            "＊＊\n",
            "＊＊＊\n",
            "＊＊＊＊\n"
          ]
        }
      ],
      "source": [
        "x=1\n",
        "while x<5:\n",
        "  print(x*'＊')\n",
        "  x=x+1"
      ]
    },
    {
      "cell_type": "markdown",
      "metadata": {
        "id": "pkqX4pvanXr2"
      },
      "source": [
        "5. 印星星(二):"
      ]
    },
    {
      "cell_type": "raw",
      "metadata": {
        "id": "OSwjkhflnXr2"
      },
      "source": [
        "****\n",
        "***\n",
        "**\n",
        "*"
      ]
    },
    {
      "cell_type": "code",
      "execution_count": 14,
      "metadata": {
        "colab": {
          "base_uri": "https://localhost:8080/"
        },
        "id": "WzKVfyI1nXr2",
        "outputId": "a6222b7e-4388-4abe-d796-17b2b2d2804b"
      },
      "outputs": [
        {
          "output_type": "stream",
          "name": "stdout",
          "text": [
            "＊＊＊＊\n",
            "＊＊＊\n",
            "＊＊\n",
            "＊\n"
          ]
        }
      ],
      "source": [
        "x=4\n",
        "while x>0:\n",
        "  print(x*'＊')\n",
        "  x=x-1"
      ]
    },
    {
      "cell_type": "markdown",
      "metadata": {
        "id": "iIkxIKhYnXr2"
      },
      "source": [
        "6. 印星星(三):"
      ]
    },
    {
      "cell_type": "raw",
      "metadata": {
        "id": "UXcB8S4ZnXr2"
      },
      "source": [
        "  *\n",
        " ***\n",
        "*****\n",
        " ***\n",
        "  *"
      ]
    },
    {
      "cell_type": "code",
      "execution_count": 24,
      "metadata": {
        "colab": {
          "base_uri": "https://localhost:8080/"
        },
        "id": "klx3kCF6nXr2",
        "outputId": "453fe022-2187-4d6b-fee1-c91392775f15"
      },
      "outputs": [
        {
          "output_type": "stream",
          "name": "stdout",
          "text": [
            "    *\n",
            "  ***\n",
            "*****\n",
            "  ***\n",
            "    *\n"
          ]
        }
      ],
      "source": [
        "x=1\n",
        "while x<=9:\n",
        "    if x<=5:\n",
        "       print(' '*(5-x)+'*'*x)\n",
        "    else:\n",
        "       print(' '*(x-5)+'*'*(10-x))\n",
        "    x=x+2"
      ]
    }
  ],
  "metadata": {
    "kernelspec": {
      "display_name": "Python 3 (ipykernel)",
      "language": "python",
      "name": "python3"
    },
    "language_info": {
      "codemirror_mode": {
        "name": "ipython",
        "version": 3
      },
      "file_extension": ".py",
      "mimetype": "text/x-python",
      "name": "python",
      "nbconvert_exporter": "python",
      "pygments_lexer": "ipython3",
      "version": "3.9.12"
    },
    "colab": {
      "provenance": []
    }
  },
  "nbformat": 4,
  "nbformat_minor": 0
}
