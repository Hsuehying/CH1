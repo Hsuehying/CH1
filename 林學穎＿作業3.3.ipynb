{
  "nbformat": 4,
  "nbformat_minor": 0,
  "metadata": {
    "colab": {
      "provenance": [],
      "authorship_tag": "ABX9TyMTTlbV8siYFs2+sBEGCX3G",
      "include_colab_link": true
    },
    "kernelspec": {
      "name": "python3",
      "display_name": "Python 3"
    },
    "language_info": {
      "name": "python"
    }
  },
  "cells": [
    {
      "cell_type": "markdown",
      "metadata": {
        "id": "view-in-github",
        "colab_type": "text"
      },
      "source": [
        "<a href=\"https://colab.research.google.com/github/Hsuehying/complete-assignment/blob/main/%E6%9E%97%E5%AD%B8%E7%A9%8E%EF%BC%BF%E4%BD%9C%E6%A5%AD3.3.ipynb\" target=\"_parent\"><img src=\"https://colab.research.google.com/assets/colab-badge.svg\" alt=\"Open In Colab\"/></a>"
      ]
    },
    {
      "cell_type": "markdown",
      "source": [
        "3.3 某班學生人數不詳，欲輸入每一個學生成績，當輸入 -1 時表示結束輸入，然後顯示出全班人數、及格人數、不及格人數、以及全班平均值。"
      ],
      "metadata": {
        "id": "hN2O1cJsV2gD"
      }
    },
    {
      "cell_type": "code",
      "source": [
        "count=0\n",
        "total=0\n",
        "passc=0\n",
        "failc=0\n",
        "while True:\n",
        "  score= int(input('請輸入成績：（輸入-1結束）：'))\n",
        "  if score == -1:\n",
        "    break\n",
        "  total+=score\n",
        "  count+=1\n",
        "  if score>=60:\n",
        "     passc+=1\n",
        "  else:\n",
        "    failc+=1\n",
        "  avr=totla / count\n",
        "print(f'全班人數:{count}')\n",
        "print(f'及格人數:{passc}')\n",
        "print(f'不及格人數:{failc}')\n",
        "print(f'全班平均值:{avr}')"
      ],
      "metadata": {
        "id": "iZ1YaRT7V5ni"
      },
      "execution_count": null,
      "outputs": []
    }
  ]
}