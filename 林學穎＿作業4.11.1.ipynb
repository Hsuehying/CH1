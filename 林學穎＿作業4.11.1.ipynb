{
  "nbformat": 4,
  "nbformat_minor": 0,
  "metadata": {
    "colab": {
      "provenance": [],
      "authorship_tag": "ABX9TyN+1jWbAW6LQ8pgaMuZo00H",
      "include_colab_link": true
    },
    "kernelspec": {
      "name": "python3",
      "display_name": "Python 3"
    },
    "language_info": {
      "name": "python"
    }
  },
  "cells": [
    {
      "cell_type": "markdown",
      "metadata": {
        "id": "view-in-github",
        "colab_type": "text"
      },
      "source": [
        "<a href=\"https://colab.research.google.com/github/Hsuehying/complete-assignment/blob/main/%E6%9E%97%E5%AD%B8%E7%A9%8E%EF%BC%BF%E4%BD%9C%E6%A5%AD4.11.1.ipynb\" target=\"_parent\"><img src=\"https://colab.research.google.com/assets/colab-badge.svg\" alt=\"Open In Colab\"/></a>"
      ]
    },
    {
      "cell_type": "markdown",
      "source": [
        "4.11.1 請撰寫一個程式，呼叫一個自訂的函式 f(x, n)，計算一個整數 x 的 n 次方"
      ],
      "metadata": {
        "id": "ig1hv7Z_YrHN"
      }
    },
    {
      "cell_type": "code",
      "source": [
        "def f(x,n):\n",
        "    return x**n\n",
        "print(f(85,5))"
      ],
      "metadata": {
        "id": "LwPyCMhEYuMg"
      },
      "execution_count": null,
      "outputs": []
    }
  ]
}