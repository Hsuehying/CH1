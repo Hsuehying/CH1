{
  "nbformat": 4,
  "nbformat_minor": 0,
  "metadata": {
    "colab": {
      "provenance": [],
      "authorship_tag": "ABX9TyPsw5peVS2sGNTJCOr3BzPQ",
      "include_colab_link": true
    },
    "kernelspec": {
      "name": "python3",
      "display_name": "Python 3"
    },
    "language_info": {
      "name": "python"
    }
  },
  "cells": [
    {
      "cell_type": "markdown",
      "metadata": {
        "id": "view-in-github",
        "colab_type": "text"
      },
      "source": [
        "<a href=\"https://colab.research.google.com/github/Hsuehying/complete-assignment/blob/main/%E6%9E%97%E5%AD%B8%E7%A9%8E%EF%BC%BF3.4.ipynb\" target=\"_parent\"><img src=\"https://colab.research.google.com/assets/colab-badge.svg\" alt=\"Open In Colab\"/></a>"
      ]
    },
    {
      "cell_type": "markdown",
      "source": [
        "3.4 印星星(一):"
      ],
      "metadata": {
        "id": "THc7kBweWUSv"
      }
    },
    {
      "cell_type": "code",
      "source": [
        "x=1\n",
        "while x<5:\n",
        "  print(x*'＊')\n",
        "  x=x+1"
      ],
      "metadata": {
        "id": "bSmP_WzPWbvY"
      },
      "execution_count": null,
      "outputs": []
    }
  ]
}
